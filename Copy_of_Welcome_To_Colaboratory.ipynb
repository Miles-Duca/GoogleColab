{
  "nbformat": 4,
  "nbformat_minor": 0,
  "metadata": {
    "colab": {
      "name": "Copy of Welcome To Colaboratory",
      "provenance": [],
      "collapsed_sections": [],
      "include_colab_link": true
    },
    "kernelspec": {
      "display_name": "Python 3",
      "name": "python3"
    }
  },
  "cells": [
    {
      "cell_type": "markdown",
      "metadata": {
        "id": "view-in-github",
        "colab_type": "text"
      },
      "source": [
        "<a href=\"https://colab.research.google.com/github/Miles-Duca/GoogleColab/blob/main/Copy_of_Welcome_To_Colaboratory.ipynb\" target=\"_parent\"><img src=\"https://colab.research.google.com/assets/colab-badge.svg\" alt=\"Open In Colab\"/></a>"
      ]
    },
    {
      "cell_type": "code",
      "metadata": {
        "id": "VuomABfGvy5o",
        "colab": {
          "base_uri": "https://localhost:8080/"
        },
        "outputId": "0b1abc6c-fe4f-4764-bafb-955d6c799c0f"
      },
      "source": [
        "print(\"Miles Duca\")\n",
        "print(\"COP4020-Fall-Class #0001\\n\\n\\n\")\n",
        "\n",
        "\n",
        "students  = { \n",
        "     \"Sam\": \"Developer\" ,\n",
        "    \"John\" : \"Hacker\",\n",
        "    \"Andrew\" : \"Programmer\" ,\n",
        "     2 : 2021 ,\n",
        "     \"Hannah\" : \"nurse\"    \n",
        "}\n",
        "\n",
        "print(\"Initialized students dictionary:\")\n",
        "print(students)\n",
        "\n",
        "print(\"\\nAdding nested dictionary:\")\n",
        "students.update( { 3 :{\"David\" : \"graduated 2021 Spring\"} })\n",
        "\n",
        "print(students)\n",
        "\n",
        "#Accessing a element using key\n",
        "print(\"\\nAccessing an element using key: Sam\")\n",
        "print(students[\"Sam\"]) \n",
        "\n",
        "#Deleting second element\n",
        "print(\"\\nDeleting second element:\")\n",
        "del students[\"John\"]\n",
        "print(students)\n",
        "\n",
        "#Clearing\n",
        "print(\"\\nClearing students dictionary\")\n",
        "students.clear()\n",
        "print(students)"
      ],
      "execution_count": null,
      "outputs": [
        {
          "output_type": "stream",
          "name": "stdout",
          "text": [
            "Miles Duca\n",
            "COP4020-Fall-Class #0001\n",
            "\n",
            "\n",
            "\n",
            "Initialized students dictionary:\n",
            "{'Sam': 'Developer', 'John': 'Hacker', 'Andrew': 'Programmer', 2: 2021, 'Hannah': 'nurse'}\n",
            "\n",
            "Adding nested dictionary:\n",
            "{'Sam': 'Developer', 'John': 'Hacker', 'Andrew': 'Programmer', 2: 2021, 'Hannah': 'nurse', 3: {'David': 'graduated 2021 Spring'}}\n",
            "\n",
            "Accessing an element using key: Sam\n",
            "Developer\n",
            "\n",
            "Deleting second element:\n",
            "{'Sam': 'Developer', 'Andrew': 'Programmer', 2: 2021, 'Hannah': 'nurse', 3: {'David': 'graduated 2021 Spring'}}\n",
            "\n",
            "Clearing students dictionary\n",
            "{}\n"
          ]
        }
      ]
    }
  ]
}